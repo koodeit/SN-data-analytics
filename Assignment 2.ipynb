{
  "nbformat": 4,
  "nbformat_minor": 0,
  "metadata": {
    "colab": {
      "name": "assignment ",
      "provenance": [],
      "collapsed_sections": [],
      "toc_visible": true
    },
    "kernelspec": {
      "name": "python3",
      "display_name": "Python 3"
    },
    "language_info": {
      "name": "python"
    }
  },
  "cells": [
    {
      "cell_type": "code",
      "metadata": {
        "colab": {
          "base_uri": "https://localhost:8080/"
        },
        "id": "Sjzhl_LYHzLi",
        "outputId": "30a31625-fcd8-4926-8ba6-4eda2b67056a"
      },
      "source": [
        "print(int('1000'))"
      ],
      "execution_count": null,
      "outputs": [
        {
          "output_type": "stream",
          "text": [
            "1000\n"
          ],
          "name": "stdout"
        }
      ]
    },
    {
      "cell_type": "code",
      "metadata": {
        "colab": {
          "base_uri": "https://localhost:8080/"
        },
        "id": "4WxHT3dFLxp5",
        "outputId": "f382fc80-8a5f-4669-fa09-912092d098b7"
      },
      "source": [
        "f=3.764\n",
        "print(int(f))"
      ],
      "execution_count": null,
      "outputs": [
        {
          "output_type": "stream",
          "text": [
            "3\n"
          ],
          "name": "stdout"
        }
      ]
    },
    {
      "cell_type": "code",
      "metadata": {
        "colab": {
          "base_uri": "https://localhost:8080/"
        },
        "id": "iZAfoFHWMFT4",
        "outputId": "3f9f328e-cd0f-490c-f02c-1951836bc5d8"
      },
      "source": [
        "f=99.45\n",
        "print('$'+'99.45'+'dollar')"
      ],
      "execution_count": null,
      "outputs": [
        {
          "output_type": "stream",
          "text": [
            "$99.45dollar\n"
          ],
          "name": "stdout"
        }
      ]
    },
    {
      "cell_type": "code",
      "metadata": {
        "id": "fBjEpBx6M7rv",
        "colab": {
          "base_uri": "https://localhost:8080/"
        },
        "outputId": "3ae0ea9e-e08c-424c-a637-03bc18486b46"
      },
      "source": [
        "('yetty_pizza')\n",
        "print('yetty_pizza')"
      ],
      "execution_count": 6,
      "outputs": [
        {
          "output_type": "stream",
          "text": [
            "yetty_pizza\n"
          ],
          "name": "stdout"
        }
      ]
    }
  ]
}